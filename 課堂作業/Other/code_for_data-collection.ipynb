{
 "cells": [
  {
   "cell_type": "code",
   "execution_count": 17,
   "metadata": {},
   "outputs": [],
   "source": [
    "import pandas as pd\n",
    "import os\n",
    "import shutil\n",
    "import openpyxl"
   ]
  },
  {
   "cell_type": "code",
   "execution_count": 18,
   "metadata": {},
   "outputs": [
    {
     "data": {
      "text/plain": [
       "\"values_to_delete = ['Bank', 'Syndication']\\nnew_sheet_names = ['bank','nonbank','聯貸','非聯貸']\\ncolumn_names = ['Bank/Non-Bank','Distribution Method']\\ncombine(input_file, values_to_delete, new_sheet_names,column_names)\\n\\n\\nvalues_to_delete = ['Bank', 'Syndication']\\nnew_sheet_names = ['bank','nonbank','聯貸','非聯貸']\\ncolumn_names = ['Bank/Non-Bank','Distribution Method']\""
      ]
     },
     "execution_count": 18,
     "metadata": {},
     "output_type": "execute_result"
    }
   ],
   "source": [
    "def combine(file_path, values_to_delete, new_sheet_names,column_names, target, Type, country, folder_path):\n",
    "    shutil.copy(file_path, target)\n",
    "    # 打开Excel文件\n",
    "    for n, value_to_delete,  column_name in zip([0,2],values_to_delete,  column_names) :\n",
    "            workbook = openpyxl.load_workbook(file_path)\n",
    "            sheet = workbook['Report']\n",
    "\n",
    "            # 创建新的工作表\n",
    "            new_sheet = workbook.create_sheet(new_sheet_names[n])\n",
    "            \n",
    "            # 找到名为 column_name 的列索引\n",
    "            col_index = None\n",
    "            for cell in sheet[1]:  # 假设第一行是表头\n",
    "                if cell.value == column_name:\n",
    "                    col_index = cell.column\n",
    "                    break\n",
    "            new_sheet.append([cell.value for cell in sheet[1]])\n",
    "            # 遍历所有行，记录不需要删除的行\n",
    "            for row in sheet.iter_rows(min_row=2, values_only=False):  # 从第二行开始遍历\n",
    "                if all(cell.value is None for cell in row):\n",
    "                    break\n",
    "                if row[col_index - 1].value != value_to_delete:  # 列索引是从1开始的，所以需要减1\n",
    "                    new_row = [cell.value for cell in row]\n",
    "                    new_sheet.append(new_row)\n",
    "                if all(cell.value is None for cell in row):\n",
    "                    break\n",
    "\n",
    "            new_sheets = workbook.create_sheet(new_sheet_names[n+1])\n",
    "            \n",
    "            # 找到名为 column_name 的列索引\n",
    "            col_index = None\n",
    "            for cell in sheet[1]:  # 假设第一行是表头\n",
    "                if cell.value == column_name:\n",
    "                    col_index = cell.column\n",
    "                    break\n",
    "            new_sheets.append([cell.value for cell in sheet[1]])\n",
    "            # 遍历所有行，记录不需要删除的行\n",
    "            for row in sheet.iter_rows(min_row=2, values_only=False):  # 从第二行开始遍历\n",
    "                if all(cell.value is None for cell in row):\n",
    "                    break\n",
    "                if row[col_index - 1].value == value_to_delete:  # 列索引是从1开始的，所以需要减1\n",
    "                    new_row = [cell.value for cell in row]\n",
    "                    new_sheet.append(new_row)\n",
    "    # 保存修改后的Excel文件\n",
    "            workbook.save(file_path)\n",
    "    \n",
    "    new_file_path = os.path.join(folder_path, f'{Type}_{country}.xlsx')\n",
    "    old_file_path = file_path\n",
    "    os.rename(old_file_path, new_file_path)\n",
    "\n",
    "# 调用函数\n",
    "\n",
    "'''values_to_delete = ['Bank', 'Syndication']\n",
    "new_sheet_names = ['bank','nonbank','聯貸','非聯貸']\n",
    "column_names = ['Bank/Non-Bank','Distribution Method']\n",
    "combine(input_file, values_to_delete, new_sheet_names,column_names)\n",
    "\n",
    "\n",
    "values_to_delete = ['Bank', 'Syndication']\n",
    "new_sheet_names = ['bank','nonbank','聯貸','非聯貸']\n",
    "column_names = ['Bank/Non-Bank','Distribution Method']'''"
   ]
  },
  {
   "cell_type": "code",
   "execution_count": 19,
   "metadata": {},
   "outputs": [],
   "source": [
    "copy_path = r\"C:\\Users\\USER\\Desktop\\raw_data\"\n",
    "folder_path = r'C:\\Users\\USER\\Desktop\\data_collector'\n",
    "values_to_delete = ['Bank', 'Syndication']\n",
    "new_sheet_names = ['bank','nonbank','聯貸','非聯貸']\n",
    "column_names = ['Bank/Non-Bank','Distribution Method']\n",
    "def func(country,folder_path, Type) :\n",
    "    file_name = country + 'raw_data\\\\'\n",
    "    \n",
    "    copy_name = os.path.join(copy_path,file_name)\n",
    "    if not os.path.exists(copy_name):\n",
    "                os.makedirs(copy_name, mode=0o777)\n",
    "    # 获取目录中所有文件和文件夹的名称\n",
    "    all_items = os.listdir(folder_path)\n",
    "\n",
    "    # 筛选出不是文件夹的项目（即文件）\n",
    "    #files = [item for item in all_items if os.path.isfile(os.path.join(folder_path, item+'.xlsx'))]\n",
    "    \n",
    "    for name in all_items : \n",
    "        if country in name  and Type  in name and 'Country'  in name:\n",
    "            combine(name, values_to_delete, new_sheet_names,column_names, copy_name, Type, country, folder_path) "
   ]
  },
  {
   "cell_type": "code",
   "execution_count": 20,
   "metadata": {},
   "outputs": [],
   "source": [
    "#func('香港',folder_path, 'borrower')"
   ]
  },
  {
   "cell_type": "code",
   "execution_count": null,
   "metadata": {},
   "outputs": [],
   "source": [
    "countries = ['香港','澳門','墨西哥','挪威','土庫曼','烏茲別克','沙烏地阿拉伯','約旦','巴林','科威特','阿拉伯聯合大公國','阿曼','黎巴嫩','卡達冰島','摩納哥','安道爾','聖馬利諾','梵帝岡','列支敦士登','阿爾巴尼亞']\n",
    "TYPE = ['Lender_Operating', 'Lender_Parent_Operating','borrower']"
   ]
  },
  {
   "cell_type": "code",
   "execution_count": null,
   "metadata": {},
   "outputs": [],
   "source": [
    "for country in countries : \n",
    "    for Type in TYPE :\n",
    "        func(country,folder_path, Type)"
   ]
  }
 ],
 "metadata": {
  "kernelspec": {
   "display_name": "base",
   "language": "python",
   "name": "python3"
  },
  "language_info": {
   "codemirror_mode": {
    "name": "ipython",
    "version": 3
   },
   "file_extension": ".py",
   "mimetype": "text/x-python",
   "name": "python",
   "nbconvert_exporter": "python",
   "pygments_lexer": "ipython3",
   "version": "3.11.5"
  }
 },
 "nbformat": 4,
 "nbformat_minor": 2
}
