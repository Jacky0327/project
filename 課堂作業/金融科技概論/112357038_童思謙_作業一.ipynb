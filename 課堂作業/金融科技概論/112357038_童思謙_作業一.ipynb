{
 "cells": [
  {
   "cell_type": "markdown",
   "metadata": {},
   "source": [
    "### 導入套件"
   ]
  },
  {
   "cell_type": "code",
   "execution_count": 20,
   "metadata": {},
   "outputs": [],
   "source": [
    "import numpy as np\n",
    "import pandas as pd\n",
    "import matplotlib.pyplot as plt\n",
    "\n",
    "# 避免不必要的waring產生\n",
    "import warnings\n",
    "warnings.filterwarnings('ignore')"
   ]
  },
  {
   "cell_type": "markdown",
   "metadata": {},
   "source": [
    "### 取得資料"
   ]
  },
  {
   "cell_type": "code",
   "execution_count": 21,
   "metadata": {},
   "outputs": [
    {
     "name": "stdout",
     "output_type": "stream",
     "text": [
      "陣列型態 (506, 13) (506,)\n",
      "變數名:  ['CRIM' 'ZN' 'INDUS' 'CHAS' 'NOX' 'RM' 'AGE' 'DIS' 'RAD' 'TAX' 'PTRATIO'\n",
      " 'B' 'LSTAT']\n",
      "應變數陣列型態 (506, 1)\n",
      "應變數追加後陣列型態 (506, 4)\n"
     ]
    }
   ],
   "source": [
    "\n",
    "data_url = \"http://lib.stat.cmu.edu/datasets/boston\"\n",
    "raw_df = pd.read_csv(data_url, sep=\"\\s+\", \n",
    "    skiprows=22, header=None)#讀取格式為空格分隔的檔案，並從第22個row開始讀取\n",
    "x_org = np.hstack([raw_df.values[::2, :], \n",
    "    raw_df.values[1::2, :2]])#從第一欄和第二欄開始各自每兩個row取一次，再依12、34、56合併，以此類推\n",
    "yt = raw_df.values[1::2, 2]\n",
    "feature_names = np.array(['CRIM', 'ZN', 'INDUS', 'CHAS', 'NOX',\n",
    "    'RM', 'AGE', 'DIS', 'RAD', 'TAX', 'PTRATIO','B', 'LSTAT'])\n",
    "\n",
    "print('陣列型態', x_org.shape, yt.shape)\n",
    "print('變數名: ', feature_names)\n",
    "\n",
    "# データ絞り込み (項目 RMのみ)\n",
    "x_data = x_org[:,feature_names == ['RM']]\n",
    "print('應變數陣列型態', x_data.shape)\n",
    "\n",
    "# ダミー変数を追加\n",
    "x_add1 = x_org[:,feature_names == ['CRIM']]\n",
    "x_add2 = x_org[:,feature_names == ['LSTAT']]\n",
    "x = np.hstack((x_data, x_add2,x_add1))#插入新的變數\n",
    "x = np.insert(x, 0, 1.0, axis=1)#在第一欄左邊插入1\n",
    "print('應變數追加後陣列型態', x.shape)"
   ]
  },
  {
   "cell_type": "code",
   "execution_count": 22,
   "metadata": {},
   "outputs": [],
   "source": [
    "M  = x.shape[0]\n",
    "\n",
    "# 係數數量\n",
    "D = x.shape[1]\n",
    "\n",
    "# 迭代次數\n",
    "iters = 2500\n",
    "\n",
    "# 学習率\n",
    "alpha = 0.0001\n",
    "\n",
    "# 權重向量初始值\n",
    "w = np.array([1.0, 0.6, 0.8, 1.0])\n",
    "\n",
    "# 評価結果記録用 (損失函數記録)\n",
    "history = np.zeros((0,2))"
   ]
  },
  {
   "cell_type": "code",
   "execution_count": 23,
   "metadata": {},
   "outputs": [],
   "source": [
    "def pred(x, w):\n",
    "    return(x @ w)"
   ]
  },
  {
   "cell_type": "code",
   "execution_count": 24,
   "metadata": {},
   "outputs": [
    {
     "name": "stdout",
     "output_type": "stream",
     "text": [
      "iter = 0  loss = 190.333637\n",
      "iter = 100  loss = 110.397353\n",
      "iter = 200  loss = 80.997200\n",
      "iter = 300  loss = 65.016989\n",
      "iter = 400  loss = 54.562703\n",
      "iter = 500  loss = 46.871870\n",
      "iter = 600  loss = 40.869564\n",
      "iter = 700  loss = 36.061163\n",
      "iter = 800  loss = 32.167178\n",
      "iter = 900  loss = 28.999835\n",
      "iter = 1000  loss = 26.419002\n",
      "iter = 1100  loss = 24.314599\n",
      "iter = 1200  loss = 22.598194\n",
      "iter = 1300  loss = 21.198095\n",
      "iter = 1400  loss = 20.055962\n",
      "iter = 1500  loss = 19.124248\n",
      "iter = 1600  loss = 18.364181\n",
      "iter = 1700  loss = 17.744137\n",
      "iter = 1800  loss = 17.238321\n",
      "iter = 1900  loss = 16.825687\n",
      "iter = 2000  loss = 16.489070\n",
      "iter = 2100  loss = 16.214464\n",
      "iter = 2200  loss = 15.990447\n",
      "iter = 2300  loss = 15.807699\n",
      "iter = 2400  loss = 15.658616\n"
     ]
    }
   ],
   "source": [
    "for k in range(iters):\n",
    "    \n",
    "    # 計算預測值\n",
    "    yp = pred(x, w)\n",
    "    \n",
    "    # 計算殘差\n",
    "    yd = yp - yt\n",
    "    \n",
    "    # 梯度下降法\n",
    "    w = w - alpha * (x.T @ yd) / M\n",
    "    \n",
    "    # 學習曲線的計算、保存機器學習的結果\n",
    "    if ( k % 100 == 0):\n",
    "        # 計算損失函數\n",
    "        loss = np.mean(yd ** 2) / 2\n",
    "        # 計算結果\n",
    "        history = np.vstack((history, np.array([k, loss])))\n",
    "        # 呈現學習結果\n",
    "        print( \"iter = %d  loss = %f\" % (k, loss))    "
   ]
  },
  {
   "cell_type": "code",
   "execution_count": 25,
   "metadata": {},
   "outputs": [
    {
     "name": "stdout",
     "output_type": "stream",
     "text": [
      "損失函数初期値: 190.333637\n",
      "損失函数最終値: 15.658616\n"
     ]
    }
   ],
   "source": [
    "# 呈現模型訓練時，損失函數的初期値、最終値\n",
    "print('損失函数初期値: %f' % history[0,1])\n",
    "print('損失函数最終値: %f' % history[-1,1])"
   ]
  }
 ],
 "metadata": {
  "kernelspec": {
   "display_name": "base",
   "language": "python",
   "name": "python3"
  },
  "language_info": {
   "codemirror_mode": {
    "name": "ipython",
    "version": 3
   },
   "file_extension": ".py",
   "mimetype": "text/x-python",
   "name": "python",
   "nbconvert_exporter": "python",
   "pygments_lexer": "ipython3",
   "version": "3.11.5"
  }
 },
 "nbformat": 4,
 "nbformat_minor": 2
}
